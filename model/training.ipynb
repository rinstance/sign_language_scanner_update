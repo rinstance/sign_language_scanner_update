{
  "nbformat": 4,
  "nbformat_minor": 0,
  "metadata": {
    "colab": {
      "provenance": []
    },
    "kernelspec": {
      "name": "python3",
      "display_name": "Python 3"
    },
    "language_info": {
      "name": "python"
    }
  },
  "cells": [
    {
      "cell_type": "code",
      "execution_count": null,
      "metadata": {
        "id": "b-oBg6x-6zld"
      },
      "outputs": [],
      "source": [
        "!wget https://github.com/rinstance/sign_language_scanner_update/archive/master.zip -O master.zip"
      ]
    },
    {
      "cell_type": "code",
      "source": [
        "!unzip master.zip"
      ],
      "metadata": {
        "id": "uyYEJGXb-cIy"
      },
      "execution_count": null,
      "outputs": []
    },
    {
      "cell_type": "code",
      "source": [
        "from tensorflow.keras.preprocessing.image import ImageDataGenerator\n",
        "import matplotlib.pyplot as plt\n",
        "import tensorflow as tf\n",
        "\n",
        "im_height = 224\n",
        "im_width = 224\n",
        "batch_size = 32\n",
        "epochs = 50\n",
        "\n",
        "train_dir = 'sign_language_scanner_update-master/classes'\n",
        "validation_dir = 'sign_language_scanner_update-master/classes'\n",
        "\n",
        "train_image_generator = ImageDataGenerator( rescale=1./255,\n",
        "                                            rotation_range=40,\n",
        "                                            width_shift_range=0.2,\n",
        "                                            height_shift_range=0.2,\n",
        "                                            shear_range=0.2,\n",
        "                                            zoom_range=0.2,\n",
        "                                            horizontal_flip=True,\n",
        "                                            fill_mode='nearest')\n",
        "\n",
        "train_data_gen = train_image_generator.flow_from_directory(directory=train_dir,\n",
        "                                                           batch_size=batch_size,\n",
        "                                                           shuffle=True,\n",
        "                                                           target_size=(im_height, im_width),\n",
        "                                                           class_mode='categorical')\n",
        "total_train = train_data_gen.n\n",
        "\n",
        "validation_image_generator = ImageDataGenerator(rescale=1./255)\n",
        "\n",
        "val_data_gen = validation_image_generator.flow_from_directory(directory=validation_dir,\n",
        "                                                              batch_size=batch_size,\n",
        "                                                              shuffle=False,\n",
        "                                                              target_size=(im_height, im_width),\n",
        "                                                              class_mode='categorical')\n",
        "total_val = val_data_gen.n\n",
        "\n",
        "covn_base = tf.keras.applications.MobileNetV2(weights='imagenet',include_top=False)\n",
        "covn_base.trainable = True\n",
        "\n",
        "for layers in covn_base.layers[:-5]:\n",
        "    layers.trainable = False\n",
        "\n",
        "model = tf.keras.Sequential()\n",
        "model.add(covn_base)\n",
        "model.add(tf.keras.layers.GlobalAveragePooling2D())\n",
        "model.add(tf.keras.layers.Dense(29,activation='softmax'))\n",
        "\n",
        "model.compile(optimizer=tf.keras.optimizers.Adam(learning_rate=0.0001),\n",
        "              loss=tf.keras.losses.CategoricalCrossentropy(from_logits=False),\n",
        "              metrics=[\"accuracy\"])\n",
        "model.summary()\n",
        "\n",
        "history = model.fit(x=train_data_gen,\n",
        "                    steps_per_epoch=total_train,\n",
        "                    epochs=epochs,\n",
        "                    validation_data=val_data_gen,\n",
        "                    validation_steps=total_val)\n",
        "\n",
        "model.save(\"model.h5\")"
      ],
      "metadata": {
        "id": "7Rz7TE-FARUP"
      },
      "execution_count": null,
      "outputs": []
    },
    {
      "cell_type": "code",
      "source": [
        "import pathlib\n",
        "\n",
        "TF_LITE_MODEL_FILE_NAME = 'model_sign_detection.tflite'\n",
        "\n",
        "tf_lite_converter = tf.lite.TFLiteConverter.from_keras_model(model)\n",
        "tflite_model = tf_lite_converter.convert()\n",
        "\n",
        "tflite_model_file = pathlib.Path(TF_LITE_MODEL_FILE_NAME)\n",
        "tflite_model_file.write_bytes(tflite_model)"
      ],
      "metadata": {
        "id": "V0Py4uj3-lKY"
      },
      "execution_count": null,
      "outputs": []
    }
  ]
}